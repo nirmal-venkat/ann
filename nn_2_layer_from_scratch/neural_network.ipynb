{
 "cells": [
  {
   "cell_type": "markdown",
   "metadata": {},
   "source": [
    "# Artificial Neural Network from scratch"
   ]
  },
  {
   "cell_type": "markdown",
   "metadata": {},
   "source": [
    "## Objective\n",
    "To build a 2 layer neural network for a classification problem using objects (classes) in python. This would help in building a strong intuition behind the working of neural nets along with the mathematics. It also helps in experimenting arbitrary architectures like dropout, regularization, bias units and many more by acting as a good starting point. Eventually, as we move more and more towards popular and powerful frameworks like TensorFlow and Keras with black box implementations this exercise seeks to provide a good sense of computations happening in these libraries while implementing more complex networks like CNN, RNN etc.    \n",
    "\n",
    "## Architecture\n",
    "* Input layer with 9 inputs since the dataset has 9 features\n",
    "* Hidden layer with 15 neurons and ReLU activation\n",
    "* Single neuron output layer with sigmoid activation & binary cross entropy loss\n",
    "\n",
    "## Dataset \n",
    "Cancer dataset is used from the UCI machine learning [repository](https://archive.ics.uci.edu/ml/datasets/breast+cancer+wisconsin+%28original%29)"
   ]
  },
  {
   "cell_type": "code",
   "execution_count": 40,
   "metadata": {},
   "outputs": [],
   "source": [
    "# Import the required packages\n",
    "import numpy as np\n",
    "from collections import defaultdict\n",
    "import matplotlib.pyplot as plt\n",
    "from sklearn import preprocessing\n",
    "from sklearn.preprocessing import MinMaxScaler\n",
    "from sklearn import metrics\n",
    "from sklearn.metrics import confusion_matrix\n",
    "import pandas as pd\n",
    "from sklearn.model_selection import train_test_split"
   ]
  },
  {
   "cell_type": "markdown",
   "metadata": {},
   "source": [
    "### Load and preprocess data"
   ]
  },
  {
   "cell_type": "code",
   "execution_count": 56,
   "metadata": {},
   "outputs": [],
   "source": [
    "# Load data\n",
    "df = pd.read_csv('cancer_data.csv', header = None)\n",
    "df.head(5)\n",
    "\n",
    "# Recode the outcomes(y) as 0 & 1\n",
    "df.iloc[:,10].replace(2, 0,inplace=True)\n",
    "df.iloc[:,10].replace(4, 1,inplace=True)\n",
    "\n",
    "# remove rows with ? in column 6\n",
    "df = df[df[6] != '?']\n",
    "\n",
    "# Type cast for all columns to be handled as float\n",
    "df = df.astype(float)\n",
    "\n",
    "# Scale/ normalize the columns before training/testing\n",
    "scaler = MinMaxScaler() \n",
    "scaled_df = scaler.fit_transform(df.iloc[:,1:10]) \n",
    "scaled_df = pd.DataFrame(scaled_df, columns = df.columns[1:10])\n",
    "\n",
    "# Split data for training and validation\n",
    "X_train, X_test, y_train, y_test = train_test_split(scaled_df, df[10], test_size=0.2)\n",
    "\n",
    "# Convert these dataframes into np arrays with the right shape\n",
    "X_train = np.array(X_train).T\n",
    "y_train = np.array(y_train).reshape(y_train.shape[0], 1).T\n",
    "X_test = np.array(X_test).T\n",
    "y_test = np.array(y_test).reshape(y_test.shape[0], 1).T"
   ]
  },
  {
   "cell_type": "code",
   "execution_count": 133,
   "metadata": {},
   "outputs": [
    {
     "name": "stdout",
     "output_type": "stream",
     "text": [
      "(9, 546)\n",
      "(1, 546)\n",
      "(9, 137)\n",
      "(1, 137)\n"
     ]
    }
   ],
   "source": [
    "print(X_train.shape)\n",
    "print(y_train.shape)\n",
    "print(X_test.shape)\n",
    "print(y_test.shape)"
   ]
  },
  {
   "cell_type": "markdown",
   "metadata": {},
   "source": [
    "### Whole Computation Yt = a2 = Sigmoid(w2 ReLU (w1 x+ b1) + b2 )"
   ]
  },
  {
   "cell_type": "code",
   "execution_count": 200,
   "metadata": {},
   "outputs": [],
   "source": [
    "# Initialize the class and instance variables & functions\n",
    "\n",
    "class neuralnet:\n",
    "    \n",
    "    def __init__(self, xin, yin, num_neuron=15, learning_rate=0.003, epoch=2000):\n",
    "        \n",
    "        self.x = xin\n",
    "        self.y = yin\n",
    "        self.yt = np.zeros((1, self.y.shape[1]))\n",
    "                           \n",
    "        # Create a dictionary to hold parameters - weights & biases\n",
    "        self.weight_bias = defaultdict()\n",
    "        self.lr = learning_rate # get user input for learning rate\n",
    "        self.loss = [] # store losses in each epoch\n",
    "        \n",
    "        # Dictionary to store all intermediate computations and differentials\n",
    "        self.inter = defaultdict()\n",
    "                           \n",
    "        # neural_net dimensions\n",
    "        self.nn_dims = [self.x.shape[0], num_neuron, 1] # Layer wise dimensions (9, 15, 1)\n",
    "        \n",
    "        # Number of passes/epochs\n",
    "        self.epoch = epoch\n",
    "\n",
    "        \n",
    "    def initialize(self):\n",
    "        \n",
    "        # Initialize weights and biases\n",
    "        self.weight_bias['w1'] = np.random.randn(self.nn_dims[0], self.nn_dims[1])/np.sqrt(self.nn_dims[0]) # (9, 15)\n",
    "        self.weight_bias['b1'] = np.zeros((self.nn_dims[1], 1)) # (15, 1)\n",
    "        \n",
    "        self.weight_bias['w2'] = np.random.randn(self.nn_dims[1], 1)/np.sqrt(self.nn_dims[1]) #(15, 1)\n",
    "        self.weight_bias['b2'] = np.zeros((1, 1))  \n",
    "                           \n",
    "        \n",
    "    def relu(self, z):\n",
    "        return np.maximum(0,z)\n",
    "    def sigmoid(self, z):\n",
    "        return 1/(1 + np.exp(-z))\n",
    "    \n",
    "    def loss_fwd_pass(self, yt):\n",
    "        loss_pass = (-1/self.x.shape[1])*(np.dot(self.y, np.log(yt).T) + np.dot((1-self.y), np.log(1-yt).T))\n",
    "        return loss_pass\n",
    "        \n",
    "    \n",
    "    def forward_prop(self): \n",
    "        \n",
    "        self.inter['z1'] = np.dot(self.weight_bias['w1'].T, self.x) + self.weight_bias['b1']\n",
    "        self.inter['a1'] = self.relu(self.inter['z1'])\n",
    "        self.inter['z2'] = np.dot(self.weight_bias['w2'].T, self.inter['a1']) + self.weight_bias['b2']\n",
    "        self.inter['a2'] = self.sigmoid(self.inter['z2'])\n",
    "        self.yt = self.inter['a2']\n",
    "        \n",
    "        # Calculate Loss\n",
    "        loss_this_pass = self.loss_fwd_pass(self.yt)\n",
    "        \n",
    "        return self.yt, loss_this_pass[0][0]\n",
    "        \n",
    "        \n",
    "    def drelu(self, z):\n",
    "        z[z<=0] = 0\n",
    "        z[z>0] = 1\n",
    "        return z\n",
    "\n",
    "    \n",
    "    def backward_prop(self):\n",
    "        \n",
    "        self.inter['dyt'] = -np.divide(self.y, self.yt) + np.divide(1-self.y, 1-self.yt) \n",
    "        self.inter['dz2'] = self.yt - self.y # (1, 200)\n",
    "        self.inter['da1'] = np.dot(self.weight_bias['w2'], self.inter['dz2']) # (15, 200)\n",
    "        self.inter['dw2'] = (np.dot(self.inter['a1'], self.inter['dz2'].T))/self.inter['a1'].shape[1] # (15, 1)\n",
    "        self.inter['db2'] = np.dot(self.inter['dz2'], np.ones((self.inter['dz2'].shape[1], 1)))/self.inter['dz2'].shape[1]\n",
    "        self.inter['dz1'] = self.inter['da1'] * self.drelu(self.inter['z1']) #(15, 200)\n",
    "        self.inter['dw1'] = np.dot(self.x, self.inter['dz1'].T)/self.inter['dz1'].shape[1]\n",
    "        self.inter['db1'] = np.dot(self.inter['dz1'], np.ones((self.inter['dz1'].shape[1], 1)))/self.inter['dz1'].shape[1]# (15, 1)\n",
    "        \n",
    "        # Update the weights\n",
    "        self.weight_bias['w1'] = self.weight_bias['w1'] - self.lr * self.inter['dw1']\n",
    "        self.weight_bias['b1'] = self.weight_bias['b1'] - self.lr * self.inter['db1']\n",
    "        self.weight_bias['w2'] = self.weight_bias['w2'] - self.lr * self.inter['dw2']\n",
    "        self.weight_bias['b2'] = self.weight_bias['b2'] - self.lr * self.inter['db2']\n",
    "        \n",
    "\n",
    "    def train_nn(self):\n",
    "\n",
    "        # Set seed\n",
    "        np.random.seed(221)\n",
    "        \n",
    "        # Initialize weights\n",
    "        self.initialize()\n",
    "        \n",
    "        for i in range(0, self.epoch):\n",
    "            yt_pass, loss_one_pass = self.forward_prop()\n",
    "            self.loss.append(loss_one_pass) # track losses for each pass\n",
    "            self.backward_prop()\n",
    "            \n",
    "\n"
   ]
  },
  {
   "cell_type": "markdown",
   "metadata": {},
   "source": [
    "### Setup the network & learning rate and train the network "
   ]
  },
  {
   "cell_type": "code",
   "execution_count": 201,
   "metadata": {},
   "outputs": [],
   "source": [
    "nn = neuralnet(X_train,y_train)\n",
    "nn.lr = 0.01\n",
    "nn.train_nn()"
   ]
  },
  {
   "cell_type": "markdown",
   "metadata": {},
   "source": [
    "### Plot training loss for 2000 epochs"
   ]
  },
  {
   "cell_type": "code",
   "execution_count": 202,
   "metadata": {},
   "outputs": [
    {
     "data": {
      "text/plain": [
       "[<matplotlib.lines.Line2D at 0x1a23d9d978>]"
      ]
     },
     "execution_count": 202,
     "metadata": {},
     "output_type": "execute_result"
    },
    {
     "data": {
      "image/png": "[encoded data removed]",
      "text/plain": [
       "<Figure size 432x288 with 1 Axes>"
      ]
     },
     "metadata": {
      "needs_background": "light"
     },
     "output_type": "display_data"
    }
   ],
   "source": [
    "plt.plot(nn.loss)"
   ]
  },
  {
   "cell_type": "code",
   "execution_count": 210,
   "metadata": {},
   "outputs": [
    {
     "data": {
      "text/plain": [
       "array([[1., 0., 0., 0., 0., 1., 1., 0., 0., 0., 0., 0., 0., 1., 0., 0.,\n",
       "        0., 1., 1., 1., 0., 0., 0., 0., 0., 1., 1., 0., 0., 0., 0., 0.,\n",
       "        1., 0., 0., 0., 1., 0., 0., 0., 1., 1., 1., 1., 0., 0., 0., 1.,\n",
       "        0., 1., 1., 0., 1., 0., 0., 1., 1., 0., 0., 0., 0., 0., 0., 0.,\n",
       "        1., 0., 0., 0., 1., 1., 1., 1., 0., 1., 1., 1., 0., 1., 0., 0.,\n",
       "        1., 1., 0., 0., 0., 0., 1., 1., 0., 1., 0., 0., 1., 1., 1., 1.,\n",
       "        1., 1., 1., 0., 0., 1., 0., 0., 0., 1., 0., 0., 0., 1., 1., 1.,\n",
       "        0., 0., 1., 1., 1., 0., 0., 0., 0., 0., 0., 0., 1., 0., 1., 0.,\n",
       "        1., 0., 1., 0., 1., 0., 0., 0., 1., 0., 0., 0., 0., 1., 0., 0.,\n",
       "        1., 0., 0., 0., 0., 0., 1., 1., 1., 0., 1., 0., 0., 0., 0., 0.,\n",
       "        0., 1., 0., 0., 0., 0., 0., 0., 0., 1., 1., 0., 0., 0., 0., 0.,\n",
       "        0., 0., 0., 0., 1., 0., 0., 1., 0., 1., 0., 1., 1., 0., 1., 0.,\n",
       "        0., 1., 0., 0., 1., 0., 0., 0., 0., 0., 1., 0., 0., 0., 0., 0.,\n",
       "        0., 0., 1., 0., 1., 0., 0., 0., 1., 0., 1., 1., 0., 0., 0., 0.,\n",
       "        0., 1., 0., 1., 0., 0., 1., 1., 1., 1., 1., 0., 0., 0., 0., 0.,\n",
       "        0., 1., 1., 1., 0., 1., 1., 0., 0., 0., 0., 1., 0., 0., 1., 0.,\n",
       "        0., 0., 1., 0., 0., 0., 0., 0., 1., 1., 0., 0., 0., 0., 1., 1.,\n",
       "        0., 0., 0., 1., 0., 0., 0., 1., 1., 0., 0., 0., 0., 1., 0., 1.,\n",
       "        0., 0., 0., 0., 0., 0., 1., 1., 1., 0., 0., 0., 0., 0., 1., 0.,\n",
       "        1., 0., 1., 0., 0., 1., 1., 1., 0., 0., 0., 1., 0., 0., 0., 0.,\n",
       "        0., 1., 0., 0., 0., 0., 0., 0., 1., 0., 1., 0., 0., 0., 0., 0.,\n",
       "        0., 1., 0., 1., 0., 1., 0., 0., 1., 0., 0., 0., 0., 1., 1., 1.,\n",
       "        0., 0., 1., 0., 0., 1., 0., 1., 0., 1., 0., 1., 0., 0., 0., 0.,\n",
       "        1., 0., 1., 0., 0., 0., 0., 0., 0., 1., 1., 0., 1., 0., 0., 0.,\n",
       "        0., 1., 0., 0., 0., 1., 0., 0., 0., 0., 0., 0., 0., 0., 0., 1.,\n",
       "        1., 0., 0., 0., 0., 0., 0., 1., 0., 1., 0., 0., 0., 1., 1., 0.,\n",
       "        0., 1., 1., 0., 0., 1., 0., 0., 1., 1., 0., 0., 1., 1., 0., 0.,\n",
       "        0., 1., 0., 0., 0., 0., 0., 0., 0., 0., 0., 0., 0., 1., 1., 0.,\n",
       "        1., 0., 1., 1., 0., 0., 1., 0., 1., 0., 0., 0., 0., 0., 1., 0.,\n",
       "        0., 1., 1., 1., 0., 1., 1., 0., 1., 0., 1., 0., 0., 0., 1., 0.,\n",
       "        0., 1., 0., 0., 1., 1., 0., 1., 0., 1., 1., 1., 0., 0., 0., 0.,\n",
       "        0., 0., 1., 0., 1., 0., 1., 0., 1., 0., 0., 0., 0., 1., 0., 0.,\n",
       "        1., 0., 0., 0., 0., 1., 0., 0., 1., 0., 1., 0., 0., 1., 1., 0.,\n",
       "        1., 0., 1., 1., 0., 0., 0., 0., 0., 0., 0., 1., 0., 1., 1., 0.,\n",
       "        1., 1.]])"
      ]
     },
     "execution_count": 210,
     "metadata": {},
     "output_type": "execute_result"
    }
   ],
   "source": [
    "# Predicted output\n",
    "nn.yt"
   ]
  },
  {
   "cell_type": "code",
   "execution_count": 206,
   "metadata": {},
   "outputs": [
    {
     "data": {
      "text/plain": [
       "array([[1., 0., 0., 0., 0., 1., 1., 0., 0., 0., 0., 0., 0., 1., 0., 0.,\n",
       "        0., 1., 1., 1., 0., 0., 0., 0., 0., 1., 1., 0., 0., 0., 1., 0.,\n",
       "        1., 0., 0., 0., 1., 0., 1., 0., 1., 1., 1., 1., 0., 0., 0., 1.,\n",
       "        0., 1., 1., 0., 1., 0., 0., 1., 1., 0., 0., 0., 0., 0., 0., 0.,\n",
       "        1., 0., 0., 0., 1., 1., 1., 0., 0., 1., 1., 1., 0., 1., 0., 0.,\n",
       "        1., 1., 0., 0., 0., 0., 1., 1., 0., 1., 0., 0., 1., 1., 1., 1.,\n",
       "        1., 1., 1., 0., 0., 1., 1., 0., 0., 1., 0., 0., 0., 1., 1., 1.,\n",
       "        0., 0., 1., 1., 1., 0., 0., 0., 0., 0., 0., 0., 1., 0., 1., 0.,\n",
       "        1., 0., 1., 0., 1., 0., 0., 0., 1., 0., 0., 0., 0., 1., 0., 0.,\n",
       "        1., 0., 0., 0., 0., 0., 1., 1., 1., 0., 1., 0., 0., 0., 0., 0.,\n",
       "        0., 1., 0., 0., 0., 0., 0., 0., 0., 1., 1., 0., 0., 0., 0., 0.,\n",
       "        0., 0., 0., 0., 1., 0., 0., 1., 0., 1., 0., 1., 1., 0., 1., 0.,\n",
       "        0., 1., 0., 0., 1., 1., 0., 1., 0., 0., 1., 0., 0., 0., 0., 0.,\n",
       "        0., 0., 1., 0., 1., 0., 0., 0., 1., 0., 1., 1., 0., 0., 0., 0.,\n",
       "        0., 1., 0., 1., 0., 0., 1., 1., 1., 1., 1., 0., 0., 0., 0., 0.,\n",
       "        0., 1., 1., 1., 0., 1., 0., 0., 0., 0., 0., 1., 0., 0., 1., 0.,\n",
       "        0., 0., 1., 0., 0., 0., 0., 0., 1., 1., 0., 0., 0., 0., 1., 1.,\n",
       "        0., 0., 0., 1., 0., 0., 0., 1., 1., 0., 0., 0., 0., 1., 0., 1.,\n",
       "        0., 0., 0., 0., 0., 0., 1., 1., 1., 0., 0., 0., 0., 0., 1., 0.,\n",
       "        1., 0., 1., 0., 0., 1., 1., 1., 0., 0., 0., 1., 0., 0., 0., 0.,\n",
       "        0., 1., 0., 0., 0., 0., 0., 0., 0., 0., 1., 0., 0., 0., 0., 0.,\n",
       "        0., 1., 0., 1., 0., 0., 0., 0., 1., 0., 0., 0., 0., 1., 1., 1.,\n",
       "        0., 0., 1., 0., 0., 1., 0., 1., 0., 1., 0., 1., 0., 0., 0., 0.,\n",
       "        1., 0., 1., 0., 0., 0., 0., 0., 0., 1., 1., 0., 1., 0., 1., 0.,\n",
       "        0., 1., 0., 0., 0., 1., 1., 0., 0., 0., 0., 0., 0., 0., 0., 1.,\n",
       "        1., 0., 0., 0., 0., 0., 0., 1., 0., 1., 0., 0., 0., 1., 1., 0.,\n",
       "        0., 1., 1., 0., 0., 1., 0., 0., 1., 1., 0., 0., 1., 1., 0., 0.,\n",
       "        0., 1., 0., 0., 0., 0., 0., 1., 0., 0., 0., 0., 0., 1., 1., 0.,\n",
       "        1., 0., 1., 1., 0., 0., 1., 0., 1., 0., 0., 0., 0., 0., 1., 0.,\n",
       "        0., 1., 1., 0., 0., 1., 1., 0., 1., 0., 1., 0., 0., 0., 1., 0.,\n",
       "        0., 1., 0., 0., 1., 0., 0., 1., 0., 0., 0., 1., 0., 0., 0., 0.,\n",
       "        0., 0., 1., 0., 1., 0., 1., 0., 1., 0., 0., 0., 0., 1., 0., 0.,\n",
       "        1., 0., 0., 0., 0., 1., 0., 0., 1., 0., 1., 0., 0., 1., 1., 0.,\n",
       "        1., 0., 0., 1., 0., 0., 0., 0., 0., 0., 0., 1., 0., 1., 1., 0.,\n",
       "        1., 1.]])"
      ]
     },
     "execution_count": 206,
     "metadata": {},
     "output_type": "execute_result"
    }
   ],
   "source": [
    "# True output\n",
    "nn.y"
   ]
  },
  {
   "cell_type": "markdown",
   "metadata": {},
   "source": [
    "### Generate the confusion matrix keeping the threshold to be 0.5"
   ]
  },
  {
   "cell_type": "code",
   "execution_count": 224,
   "metadata": {},
   "outputs": [
    {
     "data": {
      "text/plain": [
       "array([[347,   9],\n",
       "       [  8, 182]])"
      ]
     },
     "execution_count": 224,
     "metadata": {},
     "output_type": "execute_result"
    }
   ],
   "source": [
    "nn.yt[nn.yt>=0.5] = 1\n",
    "nn.yt[nn.yt<0.5] = 0\n",
    "confusion_matrix(list(nn.y[0]), list(nn.yt[0]))"
   ]
  },
  {
   "cell_type": "markdown",
   "metadata": {},
   "source": [
    "### Accuracy from the confusion matrix above"
   ]
  },
  {
   "cell_type": "code",
   "execution_count": 225,
   "metadata": {},
   "outputs": [
    {
     "data": {
      "text/plain": [
       "0.9688644688644689"
      ]
     },
     "execution_count": 225,
     "metadata": {},
     "output_type": "execute_result"
    }
   ],
   "source": [
    "(347+182)/(347+182+17)"
   ]
  }
 ],
 "metadata": {
  "kernelspec": {
   "display_name": "Python 3",
   "language": "python",
   "name": "python3"
  },
  "language_info": {
   "codemirror_mode": {
    "name": "ipython",
    "version": 3
   },
   "file_extension": ".py",
   "mimetype": "text/x-python",
   "name": "python",
   "nbconvert_exporter": "python",
   "pygments_lexer": "ipython3",
   "version": "3.7.3"
  }
 },
 "nbformat": 4,
 "nbformat_minor": 2
}
